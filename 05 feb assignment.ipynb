{
 "cells": [
  {
   "cell_type": "code",
   "execution_count": null,
   "id": "b067378a-1fbb-4b81-aba3-8c1dda08242d",
   "metadata": {},
   "outputs": [],
   "source": [
    "Q.1> Explain Class and Object with respect to Object-Oriented Programming. Give a suitable example.\n",
    "Ans> Class and Object are two fundamental concepts in Object-Oriented Programming (OOP).\n",
    "\n",
    "     A Class is a blueprint or a blueprint for an object, which defines a set of attributes and\n",
    "     behaviors. Classes are used to create objects, and they define the structure and properties of those objects.\n",
    "\n",
    "     An Object is an instance of a Class. An object is a real-world entity that has attributes and\n",
    "     behaviors that are defined by the class it is created from.\n",
    "\n",
    "     For example, consider a class Person. A Person class could have attributes like name, age, gender, \n",
    "     and behaviors like walk, eat, sleep. An object created from the Person class would be a specific person,\n",
    "     say John, with a specific name, age, and gender. John would have the ability to walk, eat, and sleep, which \n",
    "     are behaviors defined in the Person class.\n",
    "        \n",
    "Q.2> Name the four pillars of OOPs\n",
    "Ans> Abstraction\n",
    "     Encapsulation\n",
    "     Inheritance\n",
    "     Polymorphism\n",
    "    \n",
    "Q.3> Explain why the __init__() function is used. Give a suitable example\n",
    "Ans> The __init__ method is a special method in Python that is automatically called when an object\n",
    "     of a class is created. It is commonly referred to as the constructor and is used to initialize \n",
    "     the attributes of an object. The __init__ method is defined within a class and takes the self \n",
    "     parameter, which refers to the instance of the object being created.\n",
    "    \n",
    "Q.4> Why self is used in OOPs?\n",
    "Ans> The use of self allows you to access and modify the \n",
    "     attributes and methods of the object within the class\n",
    "    \n",
    "Q.5> What is inheritance? Give an example for each type of inheritance?\n",
    "Ans> Inheritance is a mechanism in object-oriented programming where a new class is derived from\n",
    "     an existing class, inheriting all the attributes and behaviors defined in the base class.\n",
    "     This allows new classes to reuse, extend, and modify the behavior defined in the base class.\n",
    "     There are five types of inheritance in OOPs:\n",
    "\n"
   ]
  }
 ],
 "metadata": {
  "kernelspec": {
   "display_name": "Python 3 (ipykernel)",
   "language": "python",
   "name": "python3"
  },
  "language_info": {
   "codemirror_mode": {
    "name": "ipython",
    "version": 3
   },
   "file_extension": ".py",
   "mimetype": "text/x-python",
   "name": "python",
   "nbconvert_exporter": "python",
   "pygments_lexer": "ipython3",
   "version": "3.10.8"
  }
 },
 "nbformat": 4,
 "nbformat_minor": 5
}
